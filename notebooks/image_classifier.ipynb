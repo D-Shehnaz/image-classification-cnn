import tensorflow as tf
from tensorflow.keras.preprocessing.image import ImageDataGenerator
from tensorflow.keras.applications import ResNet50
from tensorflow.keras.models import Model
from tensorflow.keras.layers import Dense, GlobalAveragePooling2D
from tensorflow.keras.optimizers import Adam

# Data Augmentation
datagen = ImageDataGenerator(rescale=1./255,
                             validation_split=0.2,
                             rotation_range=20,
                             zoom_range=0.2,
                             horizontal_flip=True)

train_data = datagen.flow_from_directory('../data/sample_images',
                                         target_size=(224, 224),
                                         class_mode='categorical',
                                         subset='training')

val_data = datagen.flow_from_directory('../data/sample_images',
                                       target_size=(224, 224),
                                       class_mode='categorical',
                                       subset='validation')

# Transfer Learning
base_model = ResNet50(weights='imagenet', include_top=False, input_shape=(224, 224, 3))
x = base_model.output
x = GlobalAveragePooling2D()(x)
x = Dense(128, activation='relu')(x)
preds = Dense(train_data.num_classes, activation='softmax')(x)

model = Model(inputs=base_model.input, outputs=preds)
for layer in base_model.layers:
    layer.trainable = False

model.compile(optimizer=Adam(), loss='categorical_crossentropy', metrics=['accuracy'])
model.fit(train_data, validation_data=val_data, epochs=5)

# Save model
model.save('../models/cnn_model.h5')

# Save class labels
with open('../models/labels.txt', 'w') as f:
    f.write('\n'.join(list(train_data.class_indices.keys())))
